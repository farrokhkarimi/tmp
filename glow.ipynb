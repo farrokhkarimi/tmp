{
  "nbformat": 4,
  "nbformat_minor": 0,
  "metadata": {
    "colab": {
      "name": "Untitled3.ipynb",
      "provenance": [],
      "authorship_tag": "ABX9TyMWmf69/PzCxBIWtz2NmNIm",
      "include_colab_link": true
    },
    "kernelspec": {
      "name": "python3",
      "display_name": "Python 3"
    }
  },
  "cells": [
    {
      "cell_type": "markdown",
      "metadata": {
        "id": "view-in-github",
        "colab_type": "text"
      },
      "source": [
        "<a href=\"https://colab.research.google.com/github/farrokhkarimi/tmp/blob/master/glow.ipynb\" target=\"_parent\"><img src=\"https://colab.research.google.com/assets/colab-badge.svg\" alt=\"Open In Colab\"/></a>"
      ]
    },
    {
      "cell_type": "code",
      "metadata": {
        "id": "v9Evn2gkqCZL",
        "colab_type": "code",
        "colab": {
          "base_uri": "https://localhost:8080/",
          "height": 139
        },
        "outputId": "2552e756-4901-4991-aa81-5bb2fc614144"
      },
      "source": [
        "!git clone https://github.com/openai/glow.git"
      ],
      "execution_count": 2,
      "outputs": [
        {
          "output_type": "stream",
          "text": [
            "Cloning into 'glow'...\n",
            "remote: Enumerating objects: 6, done.\u001b[K\n",
            "remote: Counting objects:  16% (1/6)\u001b[K\rremote: Counting objects:  33% (2/6)\u001b[K\rremote: Counting objects:  50% (3/6)\u001b[K\rremote: Counting objects:  66% (4/6)\u001b[K\rremote: Counting objects:  83% (5/6)\u001b[K\rremote: Counting objects: 100% (6/6)\u001b[K\rremote: Counting objects: 100% (6/6), done.\u001b[K\n",
            "remote: Compressing objects:  16% (1/6)\u001b[K\rremote: Compressing objects:  33% (2/6)\u001b[K\rremote: Compressing objects:  50% (3/6)\u001b[K\rremote: Compressing objects:  66% (4/6)\u001b[K\rremote: Compressing objects:  83% (5/6)\u001b[K\rremote: Compressing objects: 100% (6/6)\u001b[K\rremote: Compressing objects: 100% (6/6), done.\u001b[K\n",
            "Receiving objects:   0% (1/214)   \rReceiving objects:   1% (3/214)   \rReceiving objects:   2% (5/214)   \rReceiving objects:   3% (7/214)   \rReceiving objects:   4% (9/214)   \rReceiving objects:   5% (11/214)   \rReceiving objects:   6% (13/214)   \rReceiving objects:   7% (15/214)   \rReceiving objects:   8% (18/214)   \rReceiving objects:   9% (20/214)   \rReceiving objects:  10% (22/214)   \rReceiving objects:  11% (24/214)   \rReceiving objects:  12% (26/214)   \rReceiving objects:  13% (28/214)   \rReceiving objects:  14% (30/214)   \rReceiving objects:  15% (33/214)   \rReceiving objects:  16% (35/214)   \rReceiving objects:  17% (37/214)   \rReceiving objects:  18% (39/214)   \rReceiving objects:  19% (41/214)   \rReceiving objects:  20% (43/214)   \rReceiving objects:  21% (45/214)   \rReceiving objects:  22% (48/214)   \rReceiving objects:  23% (50/214)   \rReceiving objects:  24% (52/214)   \rReceiving objects:  25% (54/214)   \rReceiving objects:  26% (56/214)   \rReceiving objects:  27% (58/214)   \rReceiving objects:  28% (60/214)   \rReceiving objects:  29% (63/214)   \rReceiving objects:  30% (65/214)   \rReceiving objects:  31% (67/214)   \rReceiving objects:  32% (69/214)   \rReceiving objects:  33% (71/214)   \rReceiving objects:  34% (73/214)   \rReceiving objects:  35% (75/214)   \rReceiving objects:  36% (78/214)   \rReceiving objects:  37% (80/214)   \rReceiving objects:  38% (82/214)   \rremote: Total 214 (delta 1), reused 0 (delta 0), pack-reused 208\u001b[K\n",
            "Receiving objects:  39% (84/214)   \rReceiving objects:  40% (86/214)   \rReceiving objects:  41% (88/214)   \rReceiving objects:  42% (90/214)   \rReceiving objects:  43% (93/214)   \rReceiving objects:  44% (95/214)   \rReceiving objects:  45% (97/214)   \rReceiving objects:  46% (99/214)   \rReceiving objects:  47% (101/214)   \rReceiving objects:  48% (103/214)   \rReceiving objects:  49% (105/214)   \rReceiving objects:  50% (107/214)   \rReceiving objects:  51% (110/214)   \rReceiving objects:  52% (112/214)   \rReceiving objects:  53% (114/214)   \rReceiving objects:  54% (116/214)   \rReceiving objects:  55% (118/214)   \rReceiving objects:  56% (120/214)   \rReceiving objects:  57% (122/214)   \rReceiving objects:  58% (125/214)   \rReceiving objects:  59% (127/214)   \rReceiving objects:  60% (129/214)   \rReceiving objects:  61% (131/214)   \rReceiving objects:  62% (133/214)   \rReceiving objects:  63% (135/214)   \rReceiving objects:  64% (137/214)   \rReceiving objects:  65% (140/214)   \rReceiving objects:  66% (142/214)   \rReceiving objects:  67% (144/214)   \rReceiving objects:  68% (146/214)   \rReceiving objects:  69% (148/214)   \rReceiving objects:  70% (150/214)   \rReceiving objects:  71% (152/214)   \rReceiving objects:  72% (155/214)   \rReceiving objects:  73% (157/214)   \rReceiving objects:  74% (159/214)   \rReceiving objects:  75% (161/214)   \rReceiving objects:  76% (163/214)   \rReceiving objects:  77% (165/214)   \rReceiving objects:  78% (167/214)   \rReceiving objects:  79% (170/214)   \rReceiving objects:  80% (172/214)   \rReceiving objects:  81% (174/214)   \rReceiving objects:  82% (176/214)   \rReceiving objects:  83% (178/214)   \rReceiving objects:  84% (180/214)   \rReceiving objects:  85% (182/214)   \rReceiving objects:  86% (185/214)   \rReceiving objects:  87% (187/214)   \rReceiving objects:  88% (189/214)   \rReceiving objects:  89% (191/214)   \rReceiving objects:  90% (193/214)   \rReceiving objects:  91% (195/214)   \rReceiving objects:  92% (197/214)   \rReceiving objects:  93% (200/214)   \rReceiving objects:  94% (202/214)   \rReceiving objects:  95% (204/214)   \rReceiving objects:  96% (206/214)   \rReceiving objects:  97% (208/214)   \rReceiving objects:  98% (210/214)   \rReceiving objects:  99% (212/214)   \rReceiving objects: 100% (214/214)   \rReceiving objects: 100% (214/214), 1.24 MiB | 19.25 MiB/s, done.\n",
            "Resolving deltas:   0% (0/94)   \rResolving deltas:   8% (8/94)   \rResolving deltas:  15% (15/94)   \rResolving deltas:  19% (18/94)   \rResolving deltas:  20% (19/94)   \rResolving deltas:  23% (22/94)   \rResolving deltas:  25% (24/94)   \rResolving deltas:  28% (27/94)   \rResolving deltas:  30% (29/94)   \rResolving deltas:  34% (32/94)   \rResolving deltas:  35% (33/94)   \rResolving deltas:  36% (34/94)   \rResolving deltas:  39% (37/94)   \rResolving deltas:  41% (39/94)   \rResolving deltas:  43% (41/94)   \rResolving deltas:  44% (42/94)   \rResolving deltas:  54% (51/94)   \rResolving deltas:  55% (52/94)   \rResolving deltas:  56% (53/94)   \rResolving deltas:  69% (65/94)   \rResolving deltas:  73% (69/94)   \rResolving deltas:  89% (84/94)   \rResolving deltas:  90% (85/94)   \rResolving deltas:  94% (89/94)   \rResolving deltas:  95% (90/94)   \rResolving deltas:  96% (91/94)   \rResolving deltas: 100% (94/94)   \rResolving deltas: 100% (94/94), done.\n"
          ],
          "name": "stdout"
        }
      ]
    },
    {
      "cell_type": "code",
      "metadata": {
        "id": "nvt_EplAqJlO",
        "colab_type": "code",
        "colab": {
          "base_uri": "https://localhost:8080/",
          "height": 34
        },
        "outputId": "a83ba842-a400-4efc-8ed7-9e8c024d9bee"
      },
      "source": [
        "cd glow"
      ],
      "execution_count": 1,
      "outputs": [
        {
          "output_type": "stream",
          "text": [
            "/content/glow\n"
          ],
          "name": "stdout"
        }
      ]
    },
    {
      "cell_type": "code",
      "metadata": {
        "id": "pToNTZ31qOs3",
        "colab_type": "code",
        "colab": {
          "base_uri": "https://localhost:8080/",
          "height": 86
        },
        "outputId": "013c9950-0344-4eac-8ed3-8bf61813567a"
      },
      "source": [
        "ls"
      ],
      "execution_count": 2,
      "outputs": [
        {
          "output_type": "stream",
          "text": [
            "\u001b[0m\u001b[01;34mceleba-tfr\u001b[0m/     \u001b[01;32mgraphics.py\u001b[0m*                optim.py          tfops.py\n",
            "celeba-tfr.tar  LICENSE                     \u001b[01;34m__pycache__\u001b[0m/      train.py\n",
            "\u001b[01;34mdata_loaders\u001b[0m/   memory_saving_gradients.py  README.md         utils.py\n",
            "\u001b[01;34mdemo\u001b[0m/           model.py                    requirements.txt\n"
          ],
          "name": "stdout"
        }
      ]
    },
    {
      "cell_type": "code",
      "metadata": {
        "id": "T5xQDByFqWkx",
        "colab_type": "code",
        "colab": {
          "base_uri": "https://localhost:8080/",
          "height": 104
        },
        "outputId": "1bd8c801-ed21-4102-cc74-3eadd7d65956"
      },
      "source": [
        "cat requirements.txt"
      ],
      "execution_count": 4,
      "outputs": [
        {
          "output_type": "stream",
          "text": [
            "tensorflow-gpu==1.8.0\n",
            "keras==2.2.0\n",
            "pillow==5.2.0\n",
            "toposort==1.5\n",
            "horovod==0.13.8\n"
          ],
          "name": "stdout"
        }
      ]
    },
    {
      "cell_type": "code",
      "metadata": {
        "id": "FAlBnSDmqdn0",
        "colab_type": "code",
        "colab": {
          "base_uri": "https://localhost:8080/",
          "height": 104
        },
        "outputId": "84112ac2-f74b-46c0-e267-825aa6d43f92"
      },
      "source": [
        "#%tensorflow_version 1.8.0"
      ],
      "execution_count": 5,
      "outputs": [
        {
          "output_type": "stream",
          "text": [
            "`%tensorflow_version` only switches the major version: 1.x or 2.x.\n",
            "You set: `1.8.0`. This will be interpreted as: `1.x`.\n",
            "\n",
            "\n",
            "TensorFlow 1.x selected.\n"
          ],
          "name": "stdout"
        }
      ]
    },
    {
      "cell_type": "code",
      "metadata": {
        "id": "P__uaQj6qpN0",
        "colab_type": "code",
        "colab": {
          "base_uri": "https://localhost:8080/",
          "height": 104
        },
        "outputId": "ca0cef49-d45c-4a9f-b2bf-b70a3b2fe69a"
      },
      "source": [
        "!pip install pillow==5.2.0\n",
        "!pip install toposort==1.5\n",
        "!pip install horovod==0.13.08"
      ],
      "execution_count": 3,
      "outputs": [
        {
          "output_type": "stream",
          "text": [
            "Requirement already satisfied: pillow==5.2.0 in /usr/local/lib/python3.6/dist-packages (5.2.0)\n",
            "Requirement already satisfied: toposort==1.5 in /usr/local/lib/python3.6/dist-packages (1.5)\n",
            "Requirement already satisfied: horovod==0.13.08 in /usr/local/lib/python3.6/dist-packages (0.13.8)\n",
            "Requirement already satisfied: cffi>=1.4.0 in /usr/local/lib/python3.6/dist-packages (from horovod==0.13.08) (1.14.0)\n",
            "Requirement already satisfied: pycparser in /usr/local/lib/python3.6/dist-packages (from cffi>=1.4.0->horovod==0.13.08) (2.20)\n"
          ],
          "name": "stdout"
        }
      ]
    },
    {
      "cell_type": "code",
      "metadata": {
        "id": "8Rgz4jcErs4a",
        "colab_type": "code",
        "colab": {
          "base_uri": "https://localhost:8080/",
          "height": 208
        },
        "outputId": "a9c4cbdd-b86d-4379-cb8f-a8cbfd4ce95f"
      },
      "source": [
        "!wget https://storage.googleapis.com/glow-demo/data/celeba-tfr.tar"
      ],
      "execution_count": 7,
      "outputs": [
        {
          "output_type": "stream",
          "text": [
            "--2020-05-27 15:09:59--  https://storage.googleapis.com/glow-demo/data/celeba-tfr.tar\n",
            "Resolving storage.googleapis.com (storage.googleapis.com)... 172.217.204.128, 2607:f8b0:400c:c13::80\n",
            "Connecting to storage.googleapis.com (storage.googleapis.com)|172.217.204.128|:443... connected.\n",
            "HTTP request sent, awaiting response... 200 OK\n",
            "Length: 4535848007 (4.2G) [application/x-tar]\n",
            "Saving to: ‘celeba-tfr.tar’\n",
            "\n",
            "celeba-tfr.tar      100%[===================>]   4.22G  67.6MB/s    in 55s     \n",
            "\n",
            "2020-05-27 15:10:54 (78.9 MB/s) - ‘celeba-tfr.tar’ saved [4535848007/4535848007]\n",
            "\n"
          ],
          "name": "stdout"
        }
      ]
    },
    {
      "cell_type": "code",
      "metadata": {
        "id": "7hxXupN9r5Pw",
        "colab_type": "code",
        "colab": {
          "base_uri": "https://localhost:8080/",
          "height": 1000
        },
        "outputId": "4af43648-be8d-424a-b38a-f58fc83652e8"
      },
      "source": [
        "!tar -xvf celeba-tfr.tar"
      ],
      "execution_count": 10,
      "outputs": [
        {
          "output_type": "stream",
          "text": [
            "celeba-tfr/\n",
            "celeba-tfr/validation/\n",
            "celeba-tfr/validation/validation-r08-s-0002-of-0040.tfrecords\n",
            "celeba-tfr/validation/validation-r08-s-0019-of-0040.tfrecords\n",
            "celeba-tfr/validation/validation-r08-s-0023-of-0040.tfrecords\n",
            "celeba-tfr/validation/validation-r08-s-0009-of-0040.tfrecords\n",
            "celeba-tfr/validation/validation-r08-s-0001-of-0040.tfrecords\n",
            "celeba-tfr/validation/validation-r08-s-0000-of-0040.tfrecords\n",
            "celeba-tfr/validation/validation-r08-s-0030-of-0040.tfrecords\n",
            "celeba-tfr/validation/validation-r08-s-0005-of-0040.tfrecords\n",
            "celeba-tfr/validation/validation-r08-s-0038-of-0040.tfrecords\n",
            "celeba-tfr/validation/validation-r08-s-0028-of-0040.tfrecords\n",
            "celeba-tfr/validation/validation-r08-s-0031-of-0040.tfrecords\n",
            "celeba-tfr/validation/validation-r08-s-0017-of-0040.tfrecords\n",
            "celeba-tfr/validation/validation-r08-s-0025-of-0040.tfrecords\n",
            "celeba-tfr/validation/validation-r08-s-0012-of-0040.tfrecords\n",
            "celeba-tfr/validation/validation-r08-s-0006-of-0040.tfrecords\n",
            "celeba-tfr/validation/validation-r08-s-0032-of-0040.tfrecords\n",
            "celeba-tfr/validation/validation-r08-s-0037-of-0040.tfrecords\n",
            "celeba-tfr/validation/validation-r08-s-0036-of-0040.tfrecords\n",
            "celeba-tfr/validation/validation-r08-s-0003-of-0040.tfrecords\n",
            "celeba-tfr/validation/validation-r08-s-0024-of-0040.tfrecords\n",
            "celeba-tfr/validation/validation-r08-s-0004-of-0040.tfrecords\n",
            "celeba-tfr/validation/validation-r08-s-0027-of-0040.tfrecords\n",
            "celeba-tfr/validation/validation-r08-s-0011-of-0040.tfrecords\n",
            "celeba-tfr/validation/validation-r08-s-0016-of-0040.tfrecords\n",
            "celeba-tfr/validation/validation-r08-s-0020-of-0040.tfrecords\n",
            "celeba-tfr/validation/validation-r08-s-0007-of-0040.tfrecords\n",
            "celeba-tfr/validation/validation-r08-s-0034-of-0040.tfrecords\n",
            "celeba-tfr/validation/validation-r08-s-0039-of-0040.tfrecords\n",
            "celeba-tfr/validation/validation-r08-s-0022-of-0040.tfrecords\n",
            "celeba-tfr/validation/validation-r08-s-0021-of-0040.tfrecords\n",
            "celeba-tfr/validation/validation-r08-s-0035-of-0040.tfrecords\n",
            "celeba-tfr/validation/validation-r08-s-0026-of-0040.tfrecords\n",
            "celeba-tfr/validation/validation-r08-s-0018-of-0040.tfrecords\n",
            "celeba-tfr/validation/validation-r08-s-0029-of-0040.tfrecords\n",
            "celeba-tfr/validation/validation-r08-s-0008-of-0040.tfrecords\n",
            "celeba-tfr/validation/validation-r08-s-0010-of-0040.tfrecords\n",
            "celeba-tfr/validation/validation-r08-s-0013-of-0040.tfrecords\n",
            "celeba-tfr/validation/validation-r08-s-0033-of-0040.tfrecords\n",
            "celeba-tfr/validation/validation-r08-s-0014-of-0040.tfrecords\n",
            "celeba-tfr/validation/validation-r08-s-0015-of-0040.tfrecords\n",
            "celeba-tfr/train/\n",
            "celeba-tfr/train/train-r08-s-0074-of-0120.tfrecords\n",
            "celeba-tfr/train/train-r08-s-0110-of-0120.tfrecords\n",
            "celeba-tfr/train/train-r08-s-0034-of-0120.tfrecords\n",
            "celeba-tfr/train/train-r08-s-0032-of-0120.tfrecords\n",
            "celeba-tfr/train/train-r08-s-0065-of-0120.tfrecords\n",
            "celeba-tfr/train/train-r08-s-0054-of-0120.tfrecords\n",
            "celeba-tfr/train/train-r08-s-0042-of-0120.tfrecords\n",
            "celeba-tfr/train/train-r08-s-0041-of-0120.tfrecords\n",
            "celeba-tfr/train/train-r08-s-0003-of-0120.tfrecords\n",
            "celeba-tfr/train/train-r08-s-0094-of-0120.tfrecords\n",
            "celeba-tfr/train/train-r08-s-0108-of-0120.tfrecords\n",
            "celeba-tfr/train/train-r08-s-0016-of-0120.tfrecords\n",
            "celeba-tfr/train/train-r08-s-0013-of-0120.tfrecords\n",
            "celeba-tfr/train/train-r08-s-0097-of-0120.tfrecords\n",
            "celeba-tfr/train/train-r08-s-0092-of-0120.tfrecords\n",
            "celeba-tfr/train/train-r08-s-0037-of-0120.tfrecords\n",
            "celeba-tfr/train/train-r08-s-0072-of-0120.tfrecords\n",
            "celeba-tfr/train/train-r08-s-0071-of-0120.tfrecords\n",
            "celeba-tfr/train/train-r08-s-0113-of-0120.tfrecords\n",
            "celeba-tfr/train/train-r08-s-0104-of-0120.tfrecords\n",
            "celeba-tfr/train/train-r08-s-0020-of-0120.tfrecords\n",
            "celeba-tfr/train/train-r08-s-0025-of-0120.tfrecords\n",
            "celeba-tfr/train/train-r08-s-0093-of-0120.tfrecords\n",
            "celeba-tfr/train/train-r08-s-0053-of-0120.tfrecords\n",
            "celeba-tfr/train/train-r08-s-0116-of-0120.tfrecords\n",
            "celeba-tfr/train/train-r08-s-0055-of-0120.tfrecords\n",
            "celeba-tfr/train/train-r08-s-0066-of-0120.tfrecords\n",
            "celeba-tfr/train/train-r08-s-0079-of-0120.tfrecords\n",
            "celeba-tfr/train/train-r08-s-0078-of-0120.tfrecords\n",
            "celeba-tfr/train/train-r08-s-0082-of-0120.tfrecords\n",
            "celeba-tfr/train/train-r08-s-0015-of-0120.tfrecords\n",
            "celeba-tfr/train/train-r08-s-0106-of-0120.tfrecords\n",
            "celeba-tfr/train/train-r08-s-0109-of-0120.tfrecords\n",
            "celeba-tfr/train/train-r08-s-0098-of-0120.tfrecords\n",
            "celeba-tfr/train/train-r08-s-0008-of-0120.tfrecords\n",
            "celeba-tfr/train/train-r08-s-0014-of-0120.tfrecords\n",
            "celeba-tfr/train/train-r08-s-0001-of-0120.tfrecords\n",
            "celeba-tfr/train/train-r08-s-0080-of-0120.tfrecords\n",
            "celeba-tfr/train/train-r08-s-0083-of-0120.tfrecords\n",
            "celeba-tfr/train/train-r08-s-0105-of-0120.tfrecords\n",
            "celeba-tfr/train/train-r08-s-0017-of-0120.tfrecords\n",
            "celeba-tfr/train/train-r08-s-0118-of-0120.tfrecords\n",
            "celeba-tfr/train/train-r08-s-0059-of-0120.tfrecords\n",
            "celeba-tfr/train/train-r08-s-0081-of-0120.tfrecords\n",
            "celeba-tfr/train/train-r08-s-0087-of-0120.tfrecords\n",
            "celeba-tfr/train/train-r08-s-0051-of-0120.tfrecords\n",
            "celeba-tfr/train/train-r08-s-0039-of-0120.tfrecords\n",
            "celeba-tfr/train/train-r08-s-0012-of-0120.tfrecords\n",
            "celeba-tfr/train/train-r08-s-0033-of-0120.tfrecords\n",
            "celeba-tfr/train/train-r08-s-0043-of-0120.tfrecords\n",
            "celeba-tfr/train/train-r08-s-0107-of-0120.tfrecords\n",
            "celeba-tfr/train/train-r08-s-0050-of-0120.tfrecords\n",
            "celeba-tfr/train/train-r08-s-0028-of-0120.tfrecords\n",
            "celeba-tfr/train/train-r08-s-0036-of-0120.tfrecords\n",
            "celeba-tfr/train/train-r08-s-0099-of-0120.tfrecords\n",
            "celeba-tfr/train/train-r08-s-0085-of-0120.tfrecords\n",
            "celeba-tfr/train/train-r08-s-0073-of-0120.tfrecords\n",
            "celeba-tfr/train/train-r08-s-0048-of-0120.tfrecords\n",
            "celeba-tfr/train/train-r08-s-0057-of-0120.tfrecords\n",
            "celeba-tfr/train/train-r08-s-0018-of-0120.tfrecords\n",
            "celeba-tfr/train/train-r08-s-0075-of-0120.tfrecords\n",
            "celeba-tfr/train/train-r08-s-0103-of-0120.tfrecords\n",
            "celeba-tfr/train/train-r08-s-0115-of-0120.tfrecords\n",
            "celeba-tfr/train/train-r08-s-0005-of-0120.tfrecords\n",
            "celeba-tfr/train/train-r08-s-0026-of-0120.tfrecords\n",
            "celeba-tfr/train/train-r08-s-0060-of-0120.tfrecords\n",
            "celeba-tfr/train/train-r08-s-0088-of-0120.tfrecords\n",
            "celeba-tfr/train/train-r08-s-0112-of-0120.tfrecords\n",
            "celeba-tfr/train/train-r08-s-0049-of-0120.tfrecords\n",
            "celeba-tfr/train/train-r08-s-0096-of-0120.tfrecords\n",
            "celeba-tfr/train/train-r08-s-0117-of-0120.tfrecords\n",
            "celeba-tfr/train/train-r08-s-0068-of-0120.tfrecords\n",
            "celeba-tfr/train/train-r08-s-0067-of-0120.tfrecords\n",
            "celeba-tfr/train/train-r08-s-0021-of-0120.tfrecords\n",
            "celeba-tfr/train/train-r08-s-0040-of-0120.tfrecords\n",
            "celeba-tfr/train/train-r08-s-0038-of-0120.tfrecords\n",
            "celeba-tfr/train/train-r08-s-0091-of-0120.tfrecords\n",
            "celeba-tfr/train/train-r08-s-0090-of-0120.tfrecords\n",
            "celeba-tfr/train/train-r08-s-0009-of-0120.tfrecords\n",
            "celeba-tfr/train/train-r08-s-0023-of-0120.tfrecords\n",
            "celeba-tfr/train/train-r08-s-0027-of-0120.tfrecords\n",
            "celeba-tfr/train/train-r08-s-0035-of-0120.tfrecords\n",
            "celeba-tfr/train/train-r08-s-0095-of-0120.tfrecords\n",
            "celeba-tfr/train/train-r08-s-0000-of-0120.tfrecords\n",
            "celeba-tfr/train/train-r08-s-0101-of-0120.tfrecords\n",
            "celeba-tfr/train/train-r08-s-0010-of-0120.tfrecords\n",
            "celeba-tfr/train/train-r08-s-0086-of-0120.tfrecords\n",
            "celeba-tfr/train/train-r08-s-0069-of-0120.tfrecords\n",
            "celeba-tfr/train/train-r08-s-0061-of-0120.tfrecords\n",
            "celeba-tfr/train/train-r08-s-0056-of-0120.tfrecords\n",
            "celeba-tfr/train/train-r08-s-0070-of-0120.tfrecords\n",
            "celeba-tfr/train/train-r08-s-0102-of-0120.tfrecords\n",
            "celeba-tfr/train/train-r08-s-0077-of-0120.tfrecords\n",
            "celeba-tfr/train/train-r08-s-0114-of-0120.tfrecords\n",
            "celeba-tfr/train/train-r08-s-0030-of-0120.tfrecords\n",
            "celeba-tfr/train/train-r08-s-0076-of-0120.tfrecords\n",
            "celeba-tfr/train/train-r08-s-0011-of-0120.tfrecords\n",
            "celeba-tfr/train/train-r08-s-0052-of-0120.tfrecords\n",
            "celeba-tfr/train/train-r08-s-0045-of-0120.tfrecords\n",
            "celeba-tfr/train/train-r08-s-0007-of-0120.tfrecords\n",
            "celeba-tfr/train/train-r08-s-0058-of-0120.tfrecords\n",
            "celeba-tfr/train/train-r08-s-0029-of-0120.tfrecords\n",
            "celeba-tfr/train/train-r08-s-0084-of-0120.tfrecords\n",
            "celeba-tfr/train/train-r08-s-0100-of-0120.tfrecords\n",
            "celeba-tfr/train/train-r08-s-0044-of-0120.tfrecords\n",
            "celeba-tfr/train/train-r08-s-0024-of-0120.tfrecords\n",
            "celeba-tfr/train/train-r08-s-0119-of-0120.tfrecords\n",
            "celeba-tfr/train/train-r08-s-0046-of-0120.tfrecords\n",
            "celeba-tfr/train/train-r08-s-0064-of-0120.tfrecords\n",
            "celeba-tfr/train/train-r08-s-0062-of-0120.tfrecords\n",
            "celeba-tfr/train/train-r08-s-0019-of-0120.tfrecords\n",
            "celeba-tfr/train/train-r08-s-0089-of-0120.tfrecords\n",
            "celeba-tfr/train/train-r08-s-0047-of-0120.tfrecords\n",
            "celeba-tfr/train/train-r08-s-0004-of-0120.tfrecords\n",
            "celeba-tfr/train/train-r08-s-0111-of-0120.tfrecords\n",
            "celeba-tfr/train/train-r08-s-0002-of-0120.tfrecords\n",
            "celeba-tfr/train/train-r08-s-0022-of-0120.tfrecords\n",
            "celeba-tfr/train/train-r08-s-0006-of-0120.tfrecords\n",
            "celeba-tfr/train/train-r08-s-0063-of-0120.tfrecords\n",
            "celeba-tfr/train/train-r08-s-0031-of-0120.tfrecords\n"
          ],
          "name": "stdout"
        }
      ]
    },
    {
      "cell_type": "code",
      "metadata": {
        "id": "WUWCQxHxsBD2",
        "colab_type": "code",
        "colab": {
          "base_uri": "https://localhost:8080/",
          "height": 86
        },
        "outputId": "a7ea8935-0331-4fe4-cc43-72c57d7b909c"
      },
      "source": [
        "ls"
      ],
      "execution_count": 4,
      "outputs": [
        {
          "output_type": "stream",
          "text": [
            "\u001b[0m\u001b[01;34mceleba-tfr\u001b[0m/     \u001b[01;32mgraphics.py\u001b[0m*                optim.py          tfops.py\n",
            "celeba-tfr.tar  LICENSE                     \u001b[01;34m__pycache__\u001b[0m/      train.py\n",
            "\u001b[01;34mdata_loaders\u001b[0m/   memory_saving_gradients.py  README.md         utils.py\n",
            "\u001b[01;34mdemo\u001b[0m/           model.py                    requirements.txt\n"
          ],
          "name": "stdout"
        }
      ]
    },
    {
      "cell_type": "code",
      "metadata": {
        "id": "knItEhtksq9z",
        "colab_type": "code",
        "colab": {
          "base_uri": "https://localhost:8080/",
          "height": 263
        },
        "outputId": "c867a9f8-edad-43bb-c5bb-bd3f4f0c2573"
      },
      "source": [
        "!CUDA_VISIBLE_DEVICES=0 python train.py --depth 1 --data_dir celeba-tfr/"
      ],
      "execution_count": 6,
      "outputs": [
        {
          "output_type": "stream",
          "text": [
            "2020-05-27 15:19:05.611584: I tensorflow/stream_executor/platform/default/dso_loader.cc:44] Successfully opened dynamic library libcudart.so.10.1\n",
            "Traceback (most recent call last):\n",
            "  File \"train.py\", line 9, in <module>\n",
            "    import horovod.tensorflow as hvd\n",
            "  File \"/usr/local/lib/python3.6/dist-packages/horovod/tensorflow/__init__.py\", line 42, in <module>\n",
            "    from horovod.tensorflow.mpi_ops import allgather\n",
            "  File \"/usr/local/lib/python3.6/dist-packages/horovod/tensorflow/mpi_ops.py\", line 57, in <module>\n",
            "    ['HorovodAllgather', 'HorovodAllreduce'])\n",
            "  File \"/usr/local/lib/python3.6/dist-packages/horovod/tensorflow/mpi_ops.py\", line 44, in _load_library\n",
            "    library = load_library.load_op_library(filename)\n",
            "  File \"/usr/local/lib/python3.6/dist-packages/tensorflow/python/framework/load_library.py\", line 58, in load_op_library\n",
            "    lib_handle = py_tf.TF_LoadLibrary(library_filename)\n",
            "tensorflow.python.framework.errors_impl.NotFoundError: libtensorflow_framework.so.1: cannot open shared object file: No such file or directory\n"
          ],
          "name": "stdout"
        }
      ]
    },
    {
      "cell_type": "code",
      "metadata": {
        "id": "fbdZsAnptMD8",
        "colab_type": "code",
        "colab": {
          "base_uri": "https://localhost:8080/",
          "height": 34
        },
        "outputId": "94f03363-b3ae-4bfd-cdac-8e3648f5205e"
      },
      "source": [
        "import tensorflow as tf\n",
        "tf.__version__"
      ],
      "execution_count": 5,
      "outputs": [
        {
          "output_type": "execute_result",
          "data": {
            "text/plain": [
              "'2.2.0'"
            ]
          },
          "metadata": {
            "tags": []
          },
          "execution_count": 5
        }
      ]
    }
  ]
}